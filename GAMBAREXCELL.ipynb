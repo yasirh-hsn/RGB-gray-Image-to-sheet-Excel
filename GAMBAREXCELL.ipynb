{
 "cells": [
  {
   "cell_type": "code",
   "execution_count": 1,
   "id": "7d46b3a2-3dfe-4841-b699-a29eb73192c0",
   "metadata": {},
   "outputs": [],
   "source": [
    "import cv2\n",
    "import openpyxl\n",
    "import PySimpleGUI as sg\n",
    "\n",
    "sg.theme('SandyBeach')\n",
    "layout = [[sg.Text('Pilih file gambar:'), sg.Input(key='-IN FILE-'), sg.FileBrowse()],\n",
    "          [sg.Text('Silahkan pilih penyimpanan hasil:'), sg.Input(key='-OUT FOLDER-'), sg.FolderBrowse()],\n",
    "          [sg.Submit('Process'), sg.Cancel()]]\n",
    "window = sg.Window('Buat Piksel gambar di Excel (Yasir Hasan-Indonesia)', layout)\n",
    "event, values = window.read()\n",
    "\n",
    "if event == sg.WINDOW_CLOSED or event == 'Cancel':\n",
    "    exit()\n",
    "img = cv2.imread(values['-IN FILE-'])\n",
    "\n",
    "if img is None:\n",
    "    sg.popup_error('File tidak dapat dibaca atau tidak didukung.')\n",
    "    exit()\n",
    "\n",
    "workbook = openpyxl.Workbook()\n",
    "sheets = {'Red': workbook.create_sheet('Red'),\n",
    "          'Green': workbook.create_sheet('Green'),\n",
    "          'Blue': workbook.create_sheet('Blue'),\n",
    "          'Grayscale': workbook.create_sheet('Grayscale')}\n",
    "\n",
    "for x in range(img.shape[1]):\n",
    "    for y in range(img.shape[0]):\n",
    "        b, g, r = img[y,x] # ambil nilai BGR\n",
    "        gray = cv2.cvtColor(img, cv2.COLOR_BGR2GRAY)[y,x] \n",
    "        sheets['Red'].cell(row=y+1, column=x+1, value=r)\n",
    "        sheets['Green'].cell(row=y+1, column=x+1, value=g)\n",
    "        sheets['Blue'].cell(row=y+1, column=x+1, value=b)\n",
    "        sheets['Grayscale'].cell(row=y+1, column=x+1, value=gray)\n",
    "\n",
    "workbook.save(values['-OUT FOLDER-'] + '/File_Hasil.xlsx')\n",
    "window.close()\n"
   ]
  },
  {
   "cell_type": "code",
   "execution_count": null,
   "id": "8b9443d5-7c13-4a6f-b41f-6491577feebb",
   "metadata": {},
   "outputs": [],
   "source": []
  }
 ],
 "metadata": {
  "kernelspec": {
   "display_name": "Python 3 (ipykernel)",
   "language": "python",
   "name": "python3"
  },
  "language_info": {
   "codemirror_mode": {
    "name": "ipython",
    "version": 3
   },
   "file_extension": ".py",
   "mimetype": "text/x-python",
   "name": "python",
   "nbconvert_exporter": "python",
   "pygments_lexer": "ipython3",
   "version": "3.11.0"
  }
 },
 "nbformat": 4,
 "nbformat_minor": 5
}
